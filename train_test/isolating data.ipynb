{
 "cells": [
  {
   "cell_type": "code",
   "execution_count": 1,
   "id": "78f0d76a-c6f7-4c34-b670-548ec7286c96",
   "metadata": {
    "tags": []
   },
   "outputs": [],
   "source": [
    "import numpy as np\n",
    "import pandas as pd\n",
    "import matplotlib.pyplot as plt\n",
    "import scipy\n",
    "import sklearn"
   ]
  },
  {
   "cell_type": "code",
   "execution_count": 2,
   "id": "a3258af4-c8aa-4046-9629-3e6ca9c55737",
   "metadata": {
    "tags": []
   },
   "outputs": [],
   "source": [
    "##Wavenumbers\n",
    "k = 12 * np.pi\n",
    "m = 6 * np.pi\n",
    "m_U = 14 * np.pi #vertical wavenumber\n",
    "##\n",
    "\n",
    "r_m = 0.1\n",
    "N0_squared = 100\n",
    "\n",
    "\n",
    "k_e = np.sqrt(k**2 + m**2)\n",
    "k_plus = np.sqrt(k**2 +(m+m_U)**2)\n",
    "\n",
    "W_e = np.array([[-1, k / (k_e**2)],\n",
    "                [-k * N0_squared, -1]])\n",
    "W_plus = np.array([[-1, -k / (k_plus**2)],\n",
    "                [k * N0_squared, -1]])\n",
    "\n",
    "W = np.block([[W_e, np.zeros((2, 2))],\n",
    "             [np.zeros((2, 2)), W_plus]])\n",
    "\n",
    "L_e = np.array([[-(k*(k_plus**2 - m_U**2)) / (2 * (k_e**2)), 0],\n",
    "                [0, k / 2]])\n",
    "\n",
    "L_plus = np.array([[-(k*(m_U**2 - k_e**2)) / (2 * (k_plus**2)), 0],\n",
    "                [0, -k / 2]])\n",
    "\n",
    "L = np.block([[np.zeros((2, 2)), L_e],\n",
    "             [L_plus, np.zeros((2, 2))]])"
   ]
  },
  {
   "cell_type": "code",
   "execution_count": 3,
   "id": "9b60c9dc-d527-4678-a511-d72a917796ae",
   "metadata": {
    "tags": []
   },
   "outputs": [],
   "source": [
    "initial_state = np.array([[0, 0, 0, 0, 0.001]]).T  #The initial state for the y_em output where the concatenated array looks like [psi_e, b_e, psi_plus, b_plus, U]\n",
    "t_span = (0, 1100)\n",
    "dt = 0.001\n",
    "epsilon = 0.01  #noise strength (0.01 has been well used)\n",
    "\n",
    "\n",
    "#The function below uses the Euler Maruyama method which is used to solve Stochastic Differential Equations (SDEs)\n",
    "def euler_maruyama(y0, t_span, dt, epsilon):\n",
    "    t0, tf = t_span\n",
    "    t = np.linspace(t0, tf, int((tf - t0) / dt) + 1)\n",
    "    s = np.zeros((4, len(t)))\n",
    "    U = np.zeros(len(t))\n",
    "    R = np.zeros(len(t))\n",
    "\n",
    "    s[:, 0] = y0[:4].ravel()\n",
    "    U[0] = y0[4]\n",
    "    R[0] = 0\n",
    "\n",
    "    for i in range(len(t) - 1):\n",
    "        noise_forcing = np.sqrt(dt) * (2 * np.sqrt(2) / k_e) * np.random.normal(0, 1)\n",
    "        noise_forcing_vector = np.array([noise_forcing, 0, 0, 0])\n",
    "        psi_e = s[0, i]\n",
    "        psi_p = s[2, i]\n",
    "        s[:, i + 1] = s[:, i] + dt * (W @ s[:, i] + U[i] * (L @ s[:, i])) + np.sqrt(epsilon) * noise_forcing_vector\n",
    "        U[i + 1] = U[i] + dt * ((0.25 * k * (k_plus**2 - k_e**2) * psi_e * psi_p) - (r_m * U[i]))\n",
    "\n",
    "    y = np.vstack((s, U))\n",
    "    return t, y"
   ]
  },
  {
   "cell_type": "code",
   "execution_count": null,
   "id": "a2d7dd38-18af-4c30-865e-a3825e459ed8",
   "metadata": {},
   "outputs": [],
   "source": []
  },
  {
   "cell_type": "code",
   "execution_count": null,
   "id": "19d00a35-335e-46aa-a095-59d5e85651d0",
   "metadata": {},
   "outputs": [],
   "source": []
  },
  {
   "cell_type": "code",
   "execution_count": null,
   "id": "fdecd4c0-a33d-4278-9336-d2a7e4805981",
   "metadata": {},
   "outputs": [],
   "source": []
  },
  {
   "cell_type": "code",
   "execution_count": 4,
   "id": "3d28d12a-feff-401f-ae52-e9059e2707dc",
   "metadata": {
    "tags": []
   },
   "outputs": [],
   "source": [
    "## The code below is used to generate the training data for the neural network\n",
    "\n",
    "t_span = (0, 11000) # Time span\n",
    "dt = 0.001  # Time step\n",
    "\n",
    "t, y = euler_maruyama(initial_state, t_span, dt, epsilon)   # Solve the SDE\n",
    "R = 0.25 * k * (k_plus**2 - k_e**2) * y[0] * y[2] \n",
    "\n",
    "# Extract the desired values\n",
    "U = y[4]  # Extract U values\n",
    "\n",
    "# Find the index corresponding to time t=100\n",
    "start_index = int(100 / dt) \n",
    "\n",
    "# Slice U and R arrays starting from the index of t=100\n",
    "U = U[start_index:]\n",
    "R = R[start_index:]\n",
    "\n",
    "# Create a DataFrame with U and R\n",
    "df = pd.DataFrame({'U': U, 'R': R})\n"
   ]
  },
  {
   "cell_type": "code",
   "execution_count": 5,
   "id": "7788a836",
   "metadata": {},
   "outputs": [],
   "source": [
    "#Replace df['R'] with Rolling mean of R with window size 1000\n",
    "df['R'] = df['R'].rolling(1000).mean()\n",
    "\n",
    "\n",
    "\n",
    "# moving average of U (window size 100)\n",
    "df['mov_avg'] = df['U'].rolling(100).mean()\n",
    "\n",
    "# moving average of U (window size 1000)\n",
    "df['mov_avg2'] = df['U'].rolling(1000).mean()\n",
    "\n",
    "# moving average of U (window size 10000)\n",
    "df['mov_avg3'] = df['U'].rolling(10000).mean()\n",
    "\n",
    "\n",
    "\n",
    "df = df.dropna() #drop the rows with NaN values\n",
    "\n",
    "df.to_csv('./data/train_data_isolate1.csv', index=False) #save the dataframe as a csv file\n"
   ]
  },
  {
   "cell_type": "code",
   "execution_count": 6,
   "id": "223a1ffc",
   "metadata": {},
   "outputs": [],
   "source": [
    "#From the df dataframe, subsample the rows with a step size of 8500 and save it as a new dataframe and then save it as a csv file\n",
    "df2 = df.iloc[::8500, :]\n",
    "df2.to_csv('./data/train_data_subsampled_isolate1.csv', index=False)"
   ]
  },
  {
   "cell_type": "code",
   "execution_count": 25,
   "id": "a7ba6ffa",
   "metadata": {},
   "outputs": [
    {
     "name": "stdout",
     "output_type": "stream",
     "text": [
      "U                  0\n",
      "R                  0\n",
      "std               99\n",
      "std2             999\n",
      "var               99\n",
      "var2             999\n",
      "mov_avg           99\n",
      "mov_avg2         999\n",
      "mov_avg3        9999\n",
      "exp_mov_avg        0\n",
      "exp_mov_avg2       0\n",
      "detrend1          99\n",
      "detrend2         999\n",
      "detrend3        9999\n",
      "dtype: int64\n"
     ]
    }
   ],
   "source": [
    "#display nan values\n",
    "print(df.isnull().sum())"
   ]
  },
  {
   "cell_type": "code",
   "execution_count": null,
   "id": "93bdb0b2",
   "metadata": {},
   "outputs": [],
   "source": [
    "t_span = (0, 10000)\n",
    "dt = 0.001\n",
    "\n",
    "t, y = euler_maruyama(initial_state, t_span, dt, epsilon)\n",
    "R = 0.25 * k * (k_plus**2 - k_e**2) * y[0] * y[2]\n",
    "\n",
    "# Extract the desired values\n",
    "U = y[4]  # Extract U values\n",
    "\n",
    "# Ensure both arrays have the same length\n",
    "min_length = min(len(U), len(R))\n",
    "U = U[:min_length]\n",
    "R = R[:min_length]\n",
    "\n",
    "# Find the index corresponding to time t=100\n",
    "start_index = int(100 / dt)\n",
    "\n",
    "# Slice U and R arrays starting from the index of t=100\n",
    "U_slice = U[start_index:]\n",
    "R_slice = R[start_index:]\n",
    "\n",
    "# Make a new U and R so that each data is separated by 8.5 time units\n",
    "U = U_slice[::int(8.5 / dt)]\n",
    "R = R_slice[::int(8.5 / dt)]\n",
    "\n",
    "# Create a DataFrame with y[4] and R\n",
    "df = pd.DataFrame({'U': U, 'R': R})\n",
    "\n",
    "\n",
    "# Save the DataFrame to a CSV file\n",
    "df.to_csv('/home/nurul/Codes_Summer/train_test/test_data_cut.csv', index=False)\n"
   ]
  },
  {
   "cell_type": "code",
   "execution_count": 8,
   "id": "65340b72",
   "metadata": {},
   "outputs": [
    {
     "data": {
      "image/png": "[encoded data removed]",
      "text/plain": [
       "<Figure size 640x480 with 1 Axes>"
      ]
     },
     "metadata": {},
     "output_type": "display_data"
    }
   ],
   "source": [
    "# Calculate the time-averaged U\n",
    "time_avg_U = np.mean(U)\n",
    "\n",
    "# Calculate U'\n",
    "U_prime = U - time_avg_U\n",
    "\n",
    "# Compute the correlation with FFT\n",
    "U_prime_fft = np.fft.fft(U_prime)\n",
    "U_prime_fft = np.abs(U_prime_fft) ** 2\n",
    "U_prime_fft = np.fft.ifft(U_prime_fft)\n",
    "U_prime_fft = np.real(U_prime_fft)\n",
    "\n",
    "# Extract the positive lags\n",
    "U_prime_fft = U_prime_fft[:len(U_prime_fft) // 2]\n",
    "\n",
    "# Normalize the auto-correlation function\n",
    "U_prime_fft = U_prime_fft / U_prime_fft[0]\n",
    "\n",
    "# Plot the auto-correlation function\n",
    "plt.plot(U_prime_fft)\n",
    "plt.xlabel('Lag')\n",
    "plt.ylabel('Auto-correlation')\n",
    "#plt.xlim(6000,9000)\n",
    "plt.axhline(y=1/np.e, color='r', linestyle='-')\n",
    "plt.show()"
   ]
  }
 ],
 "metadata": {
  "kernelspec": {
   "display_name": "Python 3 (ipykernel)",
   "language": "python",
   "name": "python3"
  },
  "language_info": {
   "codemirror_mode": {
    "name": "ipython",
    "version": 3
   },
   "file_extension": ".py",
   "mimetype": "text/x-python",
   "name": "python",
   "nbconvert_exporter": "python",
   "pygments_lexer": "ipython3",
   "version": "3.10.10"
  }
 },
 "nbformat": 4,
 "nbformat_minor": 5
}
