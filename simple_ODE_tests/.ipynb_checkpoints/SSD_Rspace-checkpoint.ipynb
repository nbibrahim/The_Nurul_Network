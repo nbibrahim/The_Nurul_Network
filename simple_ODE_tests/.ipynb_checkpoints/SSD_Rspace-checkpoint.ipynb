{
 "cells": [
  {
   "cell_type": "code",
   "execution_count": 1,
   "id": "c1690dfb-6a28-4b16-9618-e57864fa9718",
   "metadata": {
    "tags": []
   },
   "outputs": [],
   "source": [
    "import numpy as np\n",
    "import matplotlib.pyplot as plt"
   ]
  },
  {
   "cell_type": "code",
   "execution_count": 2,
   "id": "181b4cff-9167-4e81-b4ee-58e19d44d3ed",
   "metadata": {
    "tags": []
   },
   "outputs": [],
   "source": [
    "##Wavenumbers\n",
    "k = 12 * np.pi\n",
    "m = 6 * np.pi\n",
    "m_U = 14 * np.pi #vertical wavenumber\n",
    "##\n",
    "\n",
    "r_m = 0.1\n",
    "N0_squared = 100\n",
    "\n",
    "\n",
    "k_e = np.sqrt(k**2 + m**2)\n",
    "k_plus = np.sqrt(k**2 +(m+m_U)**2)\n",
    "\n",
    "W_e = np.array([[-1, k / (k_e**2)],\n",
    "                [-k * N0_squared, -1]])\n",
    "W_plus = np.array([[-1, -k / (k_plus**2)],\n",
    "                [k * N0_squared, -1]])\n",
    "\n",
    "W = np.block([[W_e, np.zeros((2, 2))],\n",
    "             [np.zeros((2, 2)), W_plus]])\n",
    "\n",
    "L_e = np.array([[-(k*(k_plus**2 - m_U**2)) / (2 * (k_e**2)), 0],\n",
    "                [0, k / 2]])\n",
    "\n",
    "L_plus = np.array([[-(k*(m_U**2 - k_e**2)) / (2 * (k_plus**2)), 0],\n",
    "                [0, -k / 2]])\n",
    "\n",
    "L = np.block([[np.zeros((2, 2)), L_e],\n",
    "             [L_plus, np.zeros((2, 2))]])"
   ]
  },
  {
   "cell_type": "markdown",
   "id": "7029580b-7e8b-4025-97be-beeab5a7641c",
   "metadata": {},
   "source": [
    "# Euler's Method"
   ]
  },
  {
   "cell_type": "code",
   "execution_count": 3,
   "id": "639cd660-e02b-4ee7-8e56-02de6b0d6ce4",
   "metadata": {
    "tags": []
   },
   "outputs": [],
   "source": [
    "dt = 0.01\n",
    "T = 100\n",
    "t = np.linspace(0,T,int(T/dt)+1)\n",
    "\n",
    "C = np.zeros((4,4,len(t)))\n",
    "U = np.zeros((len(t),1))\n",
    "\n",
    "Q = np.zeros((4,4))\n",
    "Q[0, 0] = 8 / (k_e**2)\n",
    "\n",
    "epsilon = 0.01\n",
    "r_m = 0.1"
   ]
  },
  {
   "cell_type": "code",
   "execution_count": 4,
   "id": "910ea4ed-f185-414b-b6cd-ac52412c44ac",
   "metadata": {},
   "outputs": [],
   "source": [
    "C[:,:,0] = 0\n",
    "U[0] = 0.001\n",
    "\n",
    "for i in range(0,len(t)-1):\n",
    "\n",
    "                A = W + U[i]*L\n",
    "\n",
    "                R = C[0,2,i]*(0.25 * k * ((k_plus**2) - (k_e**2)))\n",
    "\n",
    "                C[:,:,i+1] = C[:,:,i]+ dt*(A @ C[:,:,i]  + C[:,:,i] @ A.T + epsilon*Q)\n",
    "\n",
    "                U[i+1] = U[i] + dt*(-r_m*U[i]+R)\n",
    "                \n",
    "mean_U = np.mean(U)"
   ]
  },
  {
   "cell_type": "code",
   "execution_count": 5,
   "id": "da44f214-e333-41f8-9cb8-4b51476249d9",
   "metadata": {
    "tags": []
   },
   "outputs": [
    {
     "data": {
      "image/png": "[encoded data removed]",
      "text/plain": [
       "<Figure size 1000x500 with 1 Axes>"
      ]
     },
     "metadata": {},
     "output_type": "display_data"
    }
   ],
   "source": [
    "plt.figure(figsize=(10, 5))\n",
    "plt.plot(t, U)\n",
    "plt.axhline(mean_U, linestyle='--', color='r')\n",
    "plt.xlabel('t')\n",
    "plt.ylabel('U')\n",
    "plt.title('U vs t with Eulers method')\n",
    "plt.show()"
   ]
  },
  {
   "cell_type": "code",
   "execution_count": null,
   "id": "dd6a9933-4e54-494a-8bae-08278a8472ce",
   "metadata": {},
   "outputs": [],
   "source": []
  },
  {
   "cell_type": "markdown",
   "id": "b1752328-d04f-4dad-9fa9-3a1a19f97a00",
   "metadata": {},
   "source": [
    "# Runge Kutta Fourth Order Method"
   ]
  },
  {
   "cell_type": "code",
   "execution_count": 6,
   "id": "b0b61c7a-ab16-41bf-90dd-2832a94fa6c8",
   "metadata": {},
   "outputs": [],
   "source": [
    "dt = 0.01\n",
    "\n",
    "T = 200\n",
    "\n",
    "t = np.linspace(0,T,int(T/dt)+1)\n",
    "\n",
    "C = np.zeros((4,4,len(t)))\n",
    "\n",
    "U = np.zeros((len(t),1))\n",
    "\n",
    "Q = np.zeros((4,4))\n",
    "\n",
    "Q[0, 0] = 8 / (k_e**2)\n",
    "\n",
    "epsilon = 0.01\n",
    "\n",
    "r_m = 0.1"
   ]
  },
  {
   "cell_type": "code",
   "execution_count": 7,
   "id": "bb5dc49e-ce33-4f2a-bd56-dba04aa1cebd",
   "metadata": {
    "tags": []
   },
   "outputs": [],
   "source": [
    "def rhs(t, U_and_C, r_m, W, L, epsilon, Q):\n",
    "    U = U_and_C[0]\n",
    "    C = U_and_C[1:].reshape(4, 4)\n",
    "    A = W + U * L\n",
    "    R = C[0, 2] * (0.25 * k * ((k_plus**2) - (k_e**2)))\n",
    "    dCdt = A @ C + C @ A.T + epsilon * Q\n",
    "    return np.array([-r_m * U + R, *dCdt.flatten()])\n",
    "\n",
    "def rk4_method(rhs, y0, t_span, dt, *args):\n",
    "    \n",
    "    t0, tf = t_span\n",
    "    t = np.linspace(t0, tf, int((tf - t0) / dt) + 1)\n",
    "    y = np.zeros((len(y0), len(t)))\n",
    "    y[:, 0] = y0\n",
    "\n",
    "    for i in range(1, len(t)):\n",
    "        k1 = rhs(t[i-1], y[:, i-1], *args)\n",
    "        k2 = rhs(t[i-1] + dt/2, y[:, i-1] + dt/2 * k1, *args)\n",
    "        k3 = rhs(t[i-1] + dt/2, y[:, i-1] + dt/2 * k2, *args)\n",
    "        k4 = rhs(t[i-1] + dt, y[:, i-1] + dt * k3, *args)\n",
    "\n",
    "        y[:, i] = y[:, i-1] + dt * (k1 + 2*k2 + 2*k3 + k4) / 6\n",
    "\n",
    "    return t, y\n",
    "\n",
    "U0 = 0.001\n",
    "C0 = np.zeros((4, 4))\n",
    "initial = np.array([U0, *C0.flatten()])\n",
    "\n",
    "# Solve the ODE system using rk4_method\n",
    "t_rk4, sol_rk4 = rk4_method(rhs, initial, (0, T), dt, r_m, W, L, epsilon, Q)\n",
    "\n",
    "\n",
    "U_rk4 = sol_rk4[0, :]\n",
    "C_rk4 = sol_rk4[1:].reshape(-1, 4, 4)\n",
    "mean_U_rk4 = np.mean(U_rk4)"
   ]
  },
  {
   "cell_type": "code",
   "execution_count": 8,
   "id": "8bdf04a6-7177-46fc-b7d6-ffc58275533d",
   "metadata": {
    "tags": []
   },
   "outputs": [
    {
     "data": {
      "image/png": "[encoded data removed]",
      "text/plain": [
       "<Figure size 1000x500 with 1 Axes>"
      ]
     },
     "metadata": {},
     "output_type": "display_data"
    }
   ],
   "source": [
    "plt.figure(figsize=(10, 5))\n",
    "plt.plot(t_rk4, U_rk4)\n",
    "plt.axhline(mean_U_rk4, linestyle='--', color='r') \n",
    "plt.xlabel('t')\n",
    "plt.ylabel('U')\n",
    "plt.title('U vs t with RK4 method')\n",
    "plt.show()"
   ]
  },
  {
   "cell_type": "code",
   "execution_count": null,
   "id": "738c5a54-cdd5-4c1d-b24c-b6f1cc70e767",
   "metadata": {},
   "outputs": [],
   "source": []
  },
  {
   "cell_type": "code",
   "execution_count": null,
   "id": "a3256c0d-a511-433d-8691-6e2a2f167ee3",
   "metadata": {},
   "outputs": [],
   "source": []
  },
  {
   "cell_type": "markdown",
   "id": "9eb1991b-89b8-440a-a53e-951e2b5555a1",
   "metadata": {},
   "source": [
    "# Solving R(U) and plotting the R_space against the U_space"
   ]
  },
  {
   "cell_type": "markdown",
   "id": "f90d2748-99fe-494e-98cb-37beb6196e8c",
   "metadata": {},
   "source": [
    "## Using the Euler's method for that-"
   ]
  },
  {
   "cell_type": "code",
   "execution_count": 12,
   "id": "52dc5ef4-ae5f-4439-9a96-3610b3232e8e",
   "metadata": {
    "tags": []
   },
   "outputs": [],
   "source": [
    "dt = 0.01\n",
    "T = 100\n",
    "t = np.linspace(0,T,int(T/dt)+1)\n",
    "\n",
    "C = np.zeros((4,4,len(t)))\n",
    "\n",
    "Q = np.zeros((4,4,len(t)))\n",
    "Q[0, 0] = 8 / (k_e**2)\n",
    "\n",
    "epsilon = 0.01\n",
    "r_m = 0.1\n",
    "\n",
    "U_space  = np.linspace(-0.5,0.5,20)\n",
    "R_space = np.zeros(U_space.shape)\n",
    "\n",
    "for i in range(0,len(U_space)):\n",
    "\n",
    "    A = W + U_space[i]*L\n",
    "\n",
    "    for j in range(0,len(t)-1):\n",
    "\n",
    "        C[:,:,j+1] = C[:,:,j]+ dt*(A @ C[:,:,j]  + C[:,:,j] @ A.T + epsilon * Q[:,:,j])\n",
    "\n",
    "    R_space[i] = C[0,2,-1]*(0.25 * k * ((k_plus ** 2) - (k_e ** 2)))  ##Change C[0,2,-1] to see a different result"
   ]
  },
  {
   "cell_type": "code",
   "execution_count": 13,
   "id": "41c941e9-9564-4315-b7dd-d114873dee7a",
   "metadata": {
    "tags": []
   },
   "outputs": [
    {
     "data": {
      "image/png": "[encoded data removed]",
      "text/plain": [
       "<Figure size 1000x500 with 1 Axes>"
      ]
     },
     "metadata": {},
     "output_type": "display_data"
    }
   ],
   "source": [
    "plt.figure(figsize=(10, 5))\n",
    "plt.plot(U_space, R_space)\n",
    "plt.xlabel('U Space')\n",
    "plt.ylabel('R Space')\n",
    "plt.title('R Space vs U Space')\n",
    "plt.show()"
   ]
  },
  {
   "cell_type": "code",
   "execution_count": null,
   "id": "61962270-02e5-476a-80e0-f19948ddd84f",
   "metadata": {},
   "outputs": [],
   "source": []
  },
  {
   "cell_type": "markdown",
   "id": "59355b77-6446-417d-a952-7a699d5518bc",
   "metadata": {
    "tags": []
   },
   "source": [
    "## Using the RK4 method for that-"
   ]
  },
  {
   "cell_type": "code",
   "execution_count": 25,
   "id": "2e2a3309-8bd6-4b4a-bd5b-841d20995dac",
   "metadata": {
    "tags": []
   },
   "outputs": [],
   "source": [
    "def rhs(U_C, t, W, L, epsilon, Q):\n",
    "    U = U_C[0]\n",
    "    C = U_C[1:].reshape(4, 4)\n",
    "    A = W + U * L\n",
    "    R = C[0, 2] * (0.25 * k * ((k_plus ** 2) - (k_e ** 2)))\n",
    "    dCdt = A @ C + C @ A.T + epsilon * Q\n",
    "    return np.array([R -r_m * U, *dCdt.flatten()])\n",
    "\n",
    "def rk4_method(rhs, y0, t_span, dt, *args):\n",
    "    \n",
    "    t0, tf = t_span\n",
    "    t = np.linspace(t0, tf, int((tf - t0) / dt) + 1)\n",
    "    y = np.zeros((len(y0), len(t)))\n",
    "    y[:, 0] = y0\n",
    "\n",
    "    for i in range(1, len(t)):\n",
    "        k1 = rhs(y[:, i-1], t[i-1], *args)\n",
    "        k2 = rhs(y[:, i-1] + dt/2 * k1, t[i-1] + dt/2, *args)\n",
    "        k3 = rhs(y[:, i-1] + dt/2 * k2, t[i-1] + dt/2, *args)\n",
    "        k4 = rhs(y[:, i-1] + dt * k3, t[i-1] + dt, *args)\n",
    "\n",
    "        y[:, i] = y[:, i-1] + dt * (k1 + 2*k2 + 2*k3 + k4) / 6\n",
    "\n",
    "    return t, y\n",
    "\n",
    "dt = 0.01\n",
    "T = 100\n",
    "t = np.linspace(0,T,int(T/dt)+1)\n",
    "\n",
    "Q = np.zeros((4,4))\n",
    "Q[0, 0] = 8 / (k_e**2)\n",
    "\n",
    "epsilon = 0.01\n",
    "r_m = 0.1\n",
    "U_space_rk4  = np.linspace(-0.5,0.5,10)\n",
    "#U_space_rk4 = np.linspace(0.1,0.2,2)\n",
    "\n",
    "R_space_rk4 = np.zeros(U_space_rk4.shape)\n",
    "\n",
    "for i in range(0, len(U_space_rk4)):\n",
    "    U0 = U_space_rk4[i]\n",
    "    C = np.zeros((4, 4))\n",
    "    UandC = np.concatenate(([U0], C.flatten()))\n",
    "\n",
    "    t, UC_sol = rk4_method(rhs, UandC, (0, T), dt, W, L, epsilon, Q)\n",
    "\n",
    "    C_rk4 = UC_sol[1:, -1].reshape(4, 4)\n",
    "\n",
    "    R_space_rk4[i] = C_rk4[0, 2] * (0.25 * k * ((k_plus ** 2) - (k_e ** 2)))"
   ]
  },
  {
   "cell_type": "code",
   "execution_count": 26,
   "id": "18da98fe-41bd-4f69-8891-2204ac3cef56",
   "metadata": {
    "tags": []
   },
   "outputs": [
    {
     "data": {
      "text/plain": [
       "array([0.1, 0.2])"
      ]
     },
     "execution_count": 26,
     "metadata": {},
     "output_type": "execute_result"
    }
   ],
   "source": [
    "U_space_rk4"
   ]
  },
  {
   "cell_type": "code",
   "execution_count": 38,
   "id": "7bc7e228-cdcd-476d-b7ab-f15166c35a84",
   "metadata": {
    "tags": []
   },
   "outputs": [
    {
     "data": {
      "image/png": "[encoded data removed]",
      "text/plain": [
       "<Figure size 1000x500 with 1 Axes>"
      ]
     },
     "metadata": {},
     "output_type": "display_data"
    }
   ],
   "source": [
    "plt.figure(figsize=(10, 5))\n",
    "plt.plot(U_space_rk4, R_space_rk4, '.')\n",
    "plt.xlabel('U Space')\n",
    "plt.ylabel('R Space')\n",
    "plt.title('R Space vs U Space')\n",
    "#plt.xlim(-0.05,0.05)\n",
    "plt.show()"
   ]
  },
  {
   "cell_type": "code",
   "execution_count": 28,
   "id": "ca2a43c3-f58f-4528-afe8-790ed144c94a",
   "metadata": {},
   "outputs": [
    {
     "data": {
      "text/plain": [
       "array([0.01429558, 0.01429558])"
      ]
     },
     "execution_count": 28,
     "metadata": {},
     "output_type": "execute_result"
    }
   ],
   "source": [
    "R_space_rk4[0:3]"
   ]
  },
  {
   "cell_type": "code",
   "execution_count": 37,
   "id": "b0e9407d-b70b-42ab-8f00-46e867b5a569",
   "metadata": {
    "tags": []
   },
   "outputs": [],
   "source": [
    "def rhs(U_C, t, A, epsilon, Q):\n",
    "    U = U_C[0]\n",
    "    C = U_C[1:].reshape(4, 4)\n",
    "    R = C[0, 2] * (0.25 * k * ((k_plus ** 2) - (k_e ** 2)))\n",
    "    dCdt = A @ C + C @ A.T + epsilon * Q\n",
    "    return np.array([R -r_m * U, *dCdt.flatten()])\n",
    "\n",
    "def rk4_method(rhs, y0, t_span, dt, *args):\n",
    "    \n",
    "    t0, tf = t_span\n",
    "    t = np.linspace(t0, tf, int((tf - t0) / dt) + 1)\n",
    "    y = np.zeros((len(y0), len(t)))\n",
    "    y[:, 0] = y0\n",
    "\n",
    "    for i in range(1, len(t)):\n",
    "        k1 = rhs(y[:, i-1], t[i-1], *args)\n",
    "        k2 = rhs(y[:, i-1] + dt/2 * k1, t[i-1] + dt/2, *args)\n",
    "        k3 = rhs(y[:, i-1] + dt/2 * k2, t[i-1] + dt/2, *args)\n",
    "        k4 = rhs(y[:, i-1] + dt * k3, t[i-1] + dt, *args)\n",
    "\n",
    "        y[:, i] = y[:, i-1] + dt * (k1 + 2*k2 + 2*k3 + k4) / 6\n",
    "\n",
    "    return t, y\n",
    "\n",
    "dt = 0.01\n",
    "T = 100\n",
    "t = np.linspace(0,T,int(T/dt)+1)\n",
    "\n",
    "Q = np.zeros((4,4))\n",
    "Q[0, 0] = 8 / (k_e**2)\n",
    "\n",
    "epsilon = 0.01\n",
    "r_m = 0.1\n",
    "U_space_rk4  = np.linspace(-0.5,0.5,10)\n",
    "#U_space_rk4 = np.linspace(0.1,0.2,2)\n",
    "\n",
    "R_space_rk4 = np.zeros(U_space_rk4.shape)\n",
    "\n",
    "for i in range(0, len(U_space_rk4)):\n",
    "    U0 = U_space_rk4[i]\n",
    "    A = W + U_space[i] * L\n",
    "    C = np.zeros((4, 4))\n",
    "    UandC = np.concatenate(([U0], C.flatten()))\n",
    "\n",
    "    t, UC_sol = rk4_method(rhs, UandC, (0, T), dt, A, epsilon, Q)\n",
    "\n",
    "    C_rk4 = UC_sol[1:, -1].reshape(4, 4)\n",
    "\n",
    "    R_space_rk4[i] = C_rk4[0, 2] * (0.25 * k * ((k_plus ** 2) - (k_e ** 2)))"
   ]
  },
  {
   "cell_type": "code",
   "execution_count": 39,
   "id": "b28f6ae6-71ec-4ab5-957a-e99a10e470be",
   "metadata": {
    "tags": []
   },
   "outputs": [
    {
     "data": {
      "text/plain": [
       "array([ 8.37068800e+225,  9.70046016e+171,  1.41412118e+099,\n",
       "        2.23115348e-001,  1.81040303e-002, -2.31360405e-003,\n",
       "       -1.09170375e-002, -1.47481901e-002, -1.34729826e-002,\n",
       "       -5.68553552e-003])"
      ]
     },
     "execution_count": 39,
     "metadata": {},
     "output_type": "execute_result"
    }
   ],
   "source": [
    "R_space_rk4"
   ]
  },
  {
   "cell_type": "code",
   "execution_count": null,
   "id": "7274b369-5a18-4179-8df9-6d729e0ae607",
   "metadata": {},
   "outputs": [],
   "source": []
  }
 ],
 "metadata": {
  "kernelspec": {
   "display_name": "Python 3 (ipykernel)",
   "language": "python",
   "name": "python3"
  },
  "language_info": {
   "codemirror_mode": {
    "name": "ipython",
    "version": 3
   },
   "file_extension": ".py",
   "mimetype": "text/x-python",
   "name": "python",
   "nbconvert_exporter": "python",
   "pygments_lexer": "ipython3",
   "version": "3.11.3"
  }
 },
 "nbformat": 4,
 "nbformat_minor": 5
}
