{
 "cells": [
  {
   "cell_type": "code",
   "execution_count": 1,
   "metadata": {},
   "outputs": [
    {
     "name": "stderr",
     "output_type": "stream",
     "text": [
      "2023-10-11 23:16:08.290425: W tensorflow/compiler/tf2tensorrt/utils/py_utils.cc:38] TF-TRT Warning: Could not find TensorRT\n"
     ]
    }
   ],
   "source": [
    "import numpy as np\n",
    "import pandas as pd\n",
    "import matplotlib.pyplot as plt\n",
    "import pickle\n",
    "from scipy import stats\n",
    "import tensorflow as tf\n",
    "from mpi4py import MPI\n",
    "from multiprocessing import Pool\n",
    "import time"
   ]
  },
  {
   "cell_type": "code",
   "execution_count": 2,
   "metadata": {},
   "outputs": [],
   "source": [
    "##Wavenumbers\n",
    "k = 12 * np.pi\n",
    "m = 6 * np.pi\n",
    "m_U = 14 * np.pi #vertical wavenumber\n",
    "##\n",
    "\n",
    "r_m = 0.1\n",
    "N0_squared = 100\n",
    "\n",
    "\n",
    "k_e = np.sqrt(k**2 + m**2)\n",
    "k_plus = np.sqrt(k**2 +(m+m_U)**2)\n",
    "\n",
    "W_e = np.array([[-1, k / (k_e**2)],\n",
    "                [-k * N0_squared, -1]])\n",
    "W_plus = np.array([[-1, -k / (k_plus**2)],\n",
    "                [k * N0_squared, -1]])\n",
    "\n",
    "W = np.block([[W_e, np.zeros((2, 2))],\n",
    "             [np.zeros((2, 2)), W_plus]])\n",
    "\n",
    "L_e = np.array([[-(k*(k_plus**2 - m_U**2)) / (2 * (k_e**2)), 0],\n",
    "                [0, k / 2]])\n",
    "\n",
    "L_plus = np.array([[-(k*(m_U**2 - k_e**2)) / (2 * (k_plus**2)), 0],\n",
    "                [0, -k / 2]])\n",
    "\n",
    "L = np.block([[np.zeros((2, 2)), L_e],\n",
    "             [L_plus, np.zeros((2, 2))]])"
   ]
  },
  {
   "cell_type": "code",
   "execution_count": 3,
   "metadata": {},
   "outputs": [],
   "source": [
    "initial_state = np.array([[0, 0, 0, 0, 0.001]]).T  #The initial state for the y_em output where the concatenated array looks like [psi_e, b_e, psi_plus, b_plus, U]\n",
    "t_span = (0, 1100)\n",
    "dt = 0.001\n",
    "epsilon = 0.01  #noise strength (0.01 has been well used)\n",
    "\n",
    "\n",
    "#The function below uses the Euler Maruyama method which is used to solve Stochastic Differential Equations (SDEs)\n",
    "def euler_maruyama(y0, t_span, dt, epsilon, seed=None):\n",
    "    np.random.seed(seed)\n",
    "    t0, tf = t_span\n",
    "    t = np.linspace(t0, tf, int((tf - t0) / dt) + 1)\n",
    "    s = np.zeros((4, len(t)))\n",
    "    U = np.zeros(len(t))\n",
    "\n",
    "    s[:, 0] = y0[:4].ravel()\n",
    "    U[0] = y0[4]\n",
    "\n",
    "    for i in range(len(t) - 1):\n",
    "        noise_forcing = np.sqrt(dt) * (2 * np.sqrt(2) / k_e) * np.random.normal(0, 1)\n",
    "        noise_forcing_vector = np.array([noise_forcing, 0, 0, 0])\n",
    "        psi_e = s[0, i]\n",
    "        psi_p = s[2, i]\n",
    "        s[:, i + 1] = s[:, i] + dt * (W @ s[:, i] + U[i] * (L @ s[:, i])) + np.sqrt(epsilon) * noise_forcing_vector\n",
    "        U[i + 1] = U[i] + dt * ((0.25 * k * (k_plus**2 - k_e**2) * psi_e * psi_p) - (r_m * U[i]))\n",
    "\n",
    "    y = np.vstack((s, U))\n",
    "    return t, y"
   ]
  },
  {
   "cell_type": "code",
   "execution_count": 5,
   "metadata": {},
   "outputs": [],
   "source": [
    "def execute_segment(segment):\n",
    "    rank, y0, t_span, dt, epsilon = segment\n",
    "    if y0 is None:\n",
    "        y0 = np.array([[0, 0, 0, 0, 0.001]]).T  # Substitute with a default initial condition if y0 is None\n",
    "    t, y = euler_maruyama(y0, t_span, dt, epsilon)\n",
    "    cut_index = int(100 / dt)  # Index corresponding to first 100 seconds\n",
    "    return t[cut_index:], y[:, cut_index:]"
   ]
  },
  {
   "cell_type": "code",
   "execution_count": 6,
   "metadata": {},
   "outputs": [
    {
     "ename": "KeyboardInterrupt",
     "evalue": "",
     "output_type": "error",
     "traceback": [
      "\u001b[0;31m---------------------------------------------------------------------------\u001b[0m",
      "\u001b[0;31mKeyboardInterrupt\u001b[0m                         Traceback (most recent call last)",
      "\u001b[1;32m/home/nurul/The_Nurul_Network/The_Nurul_Network/train_test/mpi_produce_data.ipynb Cell 5\u001b[0m line \u001b[0;36m3\n\u001b[1;32m     <a href='vscode-notebook-cell:/home/nurul/The_Nurul_Network/The_Nurul_Network/train_test/mpi_produce_data.ipynb#W4sZmlsZQ%3D%3D?line=35'>36</a>\u001b[0m     \u001b[39mreturn\u001b[39;00m time_taken, all_t, all_y\n\u001b[1;32m     <a href='vscode-notebook-cell:/home/nurul/The_Nurul_Network/The_Nurul_Network/train_test/mpi_produce_data.ipynb#W4sZmlsZQ%3D%3D?line=37'>38</a>\u001b[0m \u001b[39m# Running the main function and storing the time taken for each run\u001b[39;00m\n\u001b[0;32m---> <a href='vscode-notebook-cell:/home/nurul/The_Nurul_Network/The_Nurul_Network/train_test/mpi_produce_data.ipynb#W4sZmlsZQ%3D%3D?line=38'>39</a>\u001b[0m time_taken, t, y\u001b[39m=\u001b[39m main()\n",
      "\u001b[1;32m/home/nurul/The_Nurul_Network/The_Nurul_Network/train_test/mpi_produce_data.ipynb Cell 5\u001b[0m line \u001b[0;36m2\n\u001b[1;32m     <a href='vscode-notebook-cell:/home/nurul/The_Nurul_Network/The_Nurul_Network/train_test/mpi_produce_data.ipynb#W4sZmlsZQ%3D%3D?line=18'>19</a>\u001b[0m     y0 \u001b[39m=\u001b[39m np\u001b[39m.\u001b[39marray([[\u001b[39m0\u001b[39m, \u001b[39m0\u001b[39m, \u001b[39m0\u001b[39m, \u001b[39m0\u001b[39m, \u001b[39m0.001\u001b[39m]])\u001b[39m.\u001b[39mT \u001b[39mif\u001b[39;00m rank \u001b[39m==\u001b[39m \u001b[39m0\u001b[39m \u001b[39melse\u001b[39;00m \u001b[39mNone\u001b[39;00m\n\u001b[1;32m     <a href='vscode-notebook-cell:/home/nurul/The_Nurul_Network/The_Nurul_Network/train_test/mpi_produce_data.ipynb#W4sZmlsZQ%3D%3D?line=19'>20</a>\u001b[0m     segments\u001b[39m.\u001b[39mappend((rank, y0, t_span, dt, epsilon))\n\u001b[0;32m---> <a href='vscode-notebook-cell:/home/nurul/The_Nurul_Network/The_Nurul_Network/train_test/mpi_produce_data.ipynb#W4sZmlsZQ%3D%3D?line=21'>22</a>\u001b[0m results \u001b[39m=\u001b[39m pool\u001b[39m.\u001b[39;49mmap(execute_segment, segments)\n\u001b[1;32m     <a href='vscode-notebook-cell:/home/nurul/The_Nurul_Network/The_Nurul_Network/train_test/mpi_produce_data.ipynb#W4sZmlsZQ%3D%3D?line=23'>24</a>\u001b[0m \u001b[39m# Combine results\u001b[39;00m\n\u001b[1;32m     <a href='vscode-notebook-cell:/home/nurul/The_Nurul_Network/The_Nurul_Network/train_test/mpi_produce_data.ipynb#W4sZmlsZQ%3D%3D?line=24'>25</a>\u001b[0m all_y \u001b[39m=\u001b[39m np\u001b[39m.\u001b[39mconcatenate([y \u001b[39mif\u001b[39;00m i \u001b[39m==\u001b[39m \u001b[39m0\u001b[39m \u001b[39melse\u001b[39;00m y[:, :] \u001b[39mfor\u001b[39;00m i, (_, y) \u001b[39min\u001b[39;00m \u001b[39menumerate\u001b[39m(results)], axis\u001b[39m=\u001b[39m\u001b[39m1\u001b[39m)\n",
      "File \u001b[0;32m/usr/lib/python3.10/multiprocessing/pool.py:367\u001b[0m, in \u001b[0;36mPool.map\u001b[0;34m(self, func, iterable, chunksize)\u001b[0m\n\u001b[1;32m    362\u001b[0m \u001b[39mdef\u001b[39;00m \u001b[39mmap\u001b[39m(\u001b[39mself\u001b[39m, func, iterable, chunksize\u001b[39m=\u001b[39m\u001b[39mNone\u001b[39;00m):\n\u001b[1;32m    363\u001b[0m \u001b[39m    \u001b[39m\u001b[39m'''\u001b[39;00m\n\u001b[1;32m    364\u001b[0m \u001b[39m    Apply `func` to each element in `iterable`, collecting the results\u001b[39;00m\n\u001b[1;32m    365\u001b[0m \u001b[39m    in a list that is returned.\u001b[39;00m\n\u001b[1;32m    366\u001b[0m \u001b[39m    '''\u001b[39;00m\n\u001b[0;32m--> 367\u001b[0m     \u001b[39mreturn\u001b[39;00m \u001b[39mself\u001b[39;49m\u001b[39m.\u001b[39;49m_map_async(func, iterable, mapstar, chunksize)\u001b[39m.\u001b[39;49mget()\n",
      "File \u001b[0;32m/usr/lib/python3.10/multiprocessing/pool.py:768\u001b[0m, in \u001b[0;36mApplyResult.get\u001b[0;34m(self, timeout)\u001b[0m\n\u001b[1;32m    767\u001b[0m \u001b[39mdef\u001b[39;00m \u001b[39mget\u001b[39m(\u001b[39mself\u001b[39m, timeout\u001b[39m=\u001b[39m\u001b[39mNone\u001b[39;00m):\n\u001b[0;32m--> 768\u001b[0m     \u001b[39mself\u001b[39;49m\u001b[39m.\u001b[39;49mwait(timeout)\n\u001b[1;32m    769\u001b[0m     \u001b[39mif\u001b[39;00m \u001b[39mnot\u001b[39;00m \u001b[39mself\u001b[39m\u001b[39m.\u001b[39mready():\n\u001b[1;32m    770\u001b[0m         \u001b[39mraise\u001b[39;00m \u001b[39mTimeoutError\u001b[39;00m\n",
      "File \u001b[0;32m/usr/lib/python3.10/multiprocessing/pool.py:765\u001b[0m, in \u001b[0;36mApplyResult.wait\u001b[0;34m(self, timeout)\u001b[0m\n\u001b[1;32m    764\u001b[0m \u001b[39mdef\u001b[39;00m \u001b[39mwait\u001b[39m(\u001b[39mself\u001b[39m, timeout\u001b[39m=\u001b[39m\u001b[39mNone\u001b[39;00m):\n\u001b[0;32m--> 765\u001b[0m     \u001b[39mself\u001b[39;49m\u001b[39m.\u001b[39;49m_event\u001b[39m.\u001b[39;49mwait(timeout)\n",
      "File \u001b[0;32m/usr/lib/python3.10/threading.py:607\u001b[0m, in \u001b[0;36mEvent.wait\u001b[0;34m(self, timeout)\u001b[0m\n\u001b[1;32m    605\u001b[0m signaled \u001b[39m=\u001b[39m \u001b[39mself\u001b[39m\u001b[39m.\u001b[39m_flag\n\u001b[1;32m    606\u001b[0m \u001b[39mif\u001b[39;00m \u001b[39mnot\u001b[39;00m signaled:\n\u001b[0;32m--> 607\u001b[0m     signaled \u001b[39m=\u001b[39m \u001b[39mself\u001b[39;49m\u001b[39m.\u001b[39;49m_cond\u001b[39m.\u001b[39;49mwait(timeout)\n\u001b[1;32m    608\u001b[0m \u001b[39mreturn\u001b[39;00m signaled\n",
      "File \u001b[0;32m/usr/lib/python3.10/threading.py:320\u001b[0m, in \u001b[0;36mCondition.wait\u001b[0;34m(self, timeout)\u001b[0m\n\u001b[1;32m    318\u001b[0m \u001b[39mtry\u001b[39;00m:    \u001b[39m# restore state no matter what (e.g., KeyboardInterrupt)\u001b[39;00m\n\u001b[1;32m    319\u001b[0m     \u001b[39mif\u001b[39;00m timeout \u001b[39mis\u001b[39;00m \u001b[39mNone\u001b[39;00m:\n\u001b[0;32m--> 320\u001b[0m         waiter\u001b[39m.\u001b[39;49macquire()\n\u001b[1;32m    321\u001b[0m         gotit \u001b[39m=\u001b[39m \u001b[39mTrue\u001b[39;00m\n\u001b[1;32m    322\u001b[0m     \u001b[39melse\u001b[39;00m:\n",
      "\u001b[0;31mKeyboardInterrupt\u001b[0m: "
     ]
    }
   ],
   "source": [
    "def main():\n",
    "    total_time = 1100000\n",
    "    dt = 0.001\n",
    "    num_processes_list = [8]  # Number of CPU cores to use for different runs\n",
    "    epsilon = 0.01\n",
    "    time_taken = {}\n",
    "\n",
    "    for num_processes in num_processes_list:\n",
    "        start_time = time.time()\n",
    "\n",
    "        each_process_time = total_time / num_processes\n",
    "        pool = Pool(processes=num_processes)\n",
    "\n",
    "        segments = []\n",
    "        for rank in range(num_processes):\n",
    "            initial_time = rank * each_process_time\n",
    "            final_time = initial_time + each_process_time\n",
    "            t_span = (initial_time, final_time)\n",
    "            y0 = np.array([[0, 0, 0, 0, 0.001]]).T if rank == 0 else None\n",
    "            segments.append((rank, y0, t_span, dt, epsilon))\n",
    "\n",
    "        results = pool.map(execute_segment, segments)\n",
    "\n",
    "        # Combine results\n",
    "        all_y = np.concatenate([y if i == 0 else y[:, :] for i, (_, y) in enumerate(results)], axis=1)\n",
    "\n",
    "        end_time = time.time()\n",
    "        elapsed_time = end_time - start_time\n",
    "        time_taken[num_processes] = elapsed_time\n",
    "\n",
    "        print(f\"Time taken with {num_processes} cores: {elapsed_time} seconds\")\n",
    "\n",
    "    # Create a 't' array to be of the same size as the rows of the 'y' array\n",
    "    all_t = np.arange(0, all_y.shape[1] * dt, dt)\n",
    "\n",
    "    return time_taken, all_t, all_y\n",
    "\n",
    "# Running the main function and storing the time taken for each run\n",
    "time_taken, t, y= main()"
   ]
  },
  {
   "cell_type": "code",
   "execution_count": 113,
   "metadata": {},
   "outputs": [
    {
     "name": "stdout",
     "output_type": "stream",
     "text": [
      "(9400016,) (5, 9400016)\n"
     ]
    }
   ],
   "source": [
    "print(t.shape, y.shape)"
   ]
  },
  {
   "cell_type": "code",
   "execution_count": 1,
   "metadata": {},
   "outputs": [
    {
     "ename": "NameError",
     "evalue": "name 'np' is not defined",
     "output_type": "error",
     "traceback": [
      "\u001b[0;31m---------------------------------------------------------------------------\u001b[0m",
      "\u001b[0;31mNameError\u001b[0m                                 Traceback (most recent call last)",
      "\u001b[1;32m/home/nurul/The_Nurul_Network/The_Nurul_Network/train_test/mpi_produce_data.ipynb Cell 7\u001b[0m line \u001b[0;36m2\n\u001b[1;32m      <a href='vscode-notebook-cell:/home/nurul/The_Nurul_Network/The_Nurul_Network/train_test/mpi_produce_data.ipynb#W6sZmlsZQ%3D%3D?line=0'>1</a>\u001b[0m \u001b[39m# save the t and y arrays in the data folder\u001b[39;00m\n\u001b[0;32m----> <a href='vscode-notebook-cell:/home/nurul/The_Nurul_Network/The_Nurul_Network/train_test/mpi_produce_data.ipynb#W6sZmlsZQ%3D%3D?line=1'>2</a>\u001b[0m np\u001b[39m.\u001b[39msave(\u001b[39m\"\u001b[39m\u001b[39mdata/large/parallel_1100000_8cores_1900s/t.npy\u001b[39m\u001b[39m\"\u001b[39m, t)\n\u001b[1;32m      <a href='vscode-notebook-cell:/home/nurul/The_Nurul_Network/The_Nurul_Network/train_test/mpi_produce_data.ipynb#W6sZmlsZQ%3D%3D?line=2'>3</a>\u001b[0m np\u001b[39m.\u001b[39msave(\u001b[39m\"\u001b[39m\u001b[39mdata/large/parallel_1100000_8cores_1900s/y.npy\u001b[39m\u001b[39m\"\u001b[39m, y)\n",
      "\u001b[0;31mNameError\u001b[0m: name 'np' is not defined"
     ]
    }
   ],
   "source": [
    "# save the t and y arrays in the data folder\n",
    "np.save(\"data/t.npy\", t)\n",
    "np.save(\"data/y.npy\", y)"
   ]
  },
  {
   "cell_type": "code",
   "execution_count": 4,
   "metadata": {},
   "outputs": [],
   "source": [
    "# load the t and y arrays from the data folder\n",
    "t = np.load(\"data/large/parallel_1100000_8cores_1900s/t.npy\")\n",
    "y = np.load(\"data/large/parallel_1100000_8cores_1900s/y.npy\")"
   ]
  },
  {
   "cell_type": "code",
   "execution_count": 5,
   "metadata": {},
   "outputs": [],
   "source": [
    "# R = 0.25 * k * (k_plus**2 - k_e**2) * y[0] * y[2] \n",
    "# U = y[4]  # Extract U values\n",
    "\n",
    "#Plot the time evaluations of R and U\n",
    "fig, axs = plt.subplots(2, 1, figsize=(12, 8))\n",
    "# axs[0].plot(t, R,'-')\n",
    "axs[0].set_title(\"Time evolution of R\")\n",
    "axs[0].set_ylabel(\"R\")\n",
    "#axs[0].set_ylim(-1,1)\n",
    "\n",
    "axs[1].plot(t, y[4],'-')\n",
    "axs[1].set_title(\"Time evolution of U\")\n",
    "axs[1].set_xlabel(\"Time\")\n",
    "axs[1].set_ylabel(\"U\")\n",
    "\n",
    "\n",
    "plt.tight_layout()\n",
    "plt.show()"
   ]
  },
  {
   "cell_type": "code",
   "execution_count": 78,
   "metadata": {},
   "outputs": [],
   "source": [
    "# R = 0.25 * k * (k_plus**2 - k_e**2) * y[0] * y[2] \n",
    "\n",
    "# # Extract the desired values\n",
    "# U = y[4]  # Extract U values\n",
    "# # Find the index corresponding to time t=100\n",
    "# start_index = int(100 / dt) \n",
    "\n",
    "# # Slice arrays starting from the index of t=100\n",
    "# t = t[start_index:]\n",
    "# t = t - t[0]\n",
    "# y = y[:, start_index:]\n",
    "# U = U[start_index:]\n",
    "# R = R[start_index:]"
   ]
  },
  {
   "cell_type": "code",
   "execution_count": null,
   "metadata": {},
   "outputs": [],
   "source": []
  }
 ],
 "metadata": {
  "kernelspec": {
   "display_name": "tfgpu",
   "language": "python",
   "name": "python3"
  },
  "language_info": {
   "codemirror_mode": {
    "name": "ipython",
    "version": 3
   },
   "file_extension": ".py",
   "mimetype": "text/x-python",
   "name": "python",
   "nbconvert_exporter": "python",
   "pygments_lexer": "ipython3",
   "version": "3.10.12"
  }
 },
 "nbformat": 4,
 "nbformat_minor": 2
}
