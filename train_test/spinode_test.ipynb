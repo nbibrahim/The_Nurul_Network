{
 "cells": [
  {
   "cell_type": "code",
   "execution_count": 11,
   "metadata": {},
   "outputs": [],
   "source": [
    "import numpy as np\n",
    "import matplotlib.pyplot as plt"
   ]
  },
  {
   "cell_type": "code",
   "execution_count": null,
   "metadata": {},
   "outputs": [],
   "source": [
    "def jet_spinode(states):\n",
    "\n",
    "    dt = 0.01\n",
    "    \n",
    "    states = np.array(states)\n",
    "\n",
    "\n"
   ]
  },
  {
   "cell_type": "code",
   "execution_count": 3,
   "metadata": {},
   "outputs": [],
   "source": [
    "##Wavenumbers\n",
    "k = 12 * np.pi\n",
    "m = 6 * np.pi\n",
    "m_U = 14 * np.pi #vertical wavenumber\n",
    "##\n",
    "\n",
    "r_m = 0.1\n",
    "N0_squared = 100\n",
    "\n",
    "\n",
    "k_e = np.sqrt(k**2 + m**2)\n",
    "k_plus = np.sqrt(k**2 +(m+m_U)**2)\n",
    "\n",
    "W_e = np.array([[-1, k / (k_e**2)],\n",
    "                [-k * N0_squared, -1]])\n",
    "W_plus = np.array([[-1, -k / (k_plus**2)],\n",
    "                [k * N0_squared, -1]])\n",
    "\n",
    "W = np.block([[W_e, np.zeros((2, 2))],\n",
    "             [np.zeros((2, 2)), W_plus]])\n",
    "\n",
    "L_e = np.array([[-(k*(k_plus**2 - m_U**2)) / (2 * (k_e**2)), 0],\n",
    "                [0, k / 2]])\n",
    "\n",
    "L_plus = np.array([[-(k*(m_U**2 - k_e**2)) / (2 * (k_plus**2)), 0],\n",
    "                [0, -k / 2]])\n",
    "\n",
    "L = np.block([[np.zeros((2, 2)), L_e],\n",
    "             [L_plus, np.zeros((2, 2))]])"
   ]
  },
  {
   "cell_type": "code",
   "execution_count": 4,
   "metadata": {},
   "outputs": [],
   "source": [
    "state_ini = np.array([0.0, 0.0, 0.0, 0.0, 0.001])\n",
    "\n",
    "dt = 0.01\n",
    "    \n",
    "states = state_ini[0:4]\n",
    "U = state_ini[4]\n",
    "\n",
    "xkw = np.random.normal(0, 1)\n",
    "epsilon = 0.01\n",
    "\n",
    "#diffusion coefficient\n",
    "g2s = (2 * np.sqrt(2) / k_e) * np.sqrt(epsilon)\n",
    "g2U = 0.0\n",
    "\n",
    "#drift coeffificent\n",
    "g1s = (W @ states) + (U * (L @ states))\n",
    "g1U = ((0.25 * k * (k_plus**2 - k_e**2) * states[0] * states[2])) - (r_m * U)\n",
    "\n",
    "#predict forward dynamics\n",
    "sp1 = states + (g1s * dt) + (g2s * np.sqrt(dt) * xkw)\n",
    "Up1 = U + (g1U * dt) \n"
   ]
  },
  {
   "cell_type": "code",
   "execution_count": 14,
   "metadata": {},
   "outputs": [],
   "source": [
    "def jet_spinode(states):\n",
    "\n",
    "    dt = 0.01\n",
    "    \n",
    "    states = state_ini[0:4]\n",
    "    U = state_ini[4]\n",
    "\n",
    "    epsilon = 0.01\n",
    "\n",
    "    #diffusion coefficient\n",
    "    g2s = (2 * np.sqrt(2) / k_e) * np.sqrt(epsilon) * np.random.normal(0, 1)\n",
    "    g2s_m = np.array([g2s, 0.0, 0.0, 0.0])\n",
    "    g2U = 0.0\n",
    "\n",
    "    #drift coeffificent\n",
    "    g1s = (W @ states) + (U * (L @ states))\n",
    "    g1U = ((0.25 * k * (k_plus**2 - k_e**2) * states[0] * states[2])) - (r_m * U)\n",
    "\n",
    "    #predict forward dynamics\n",
    "    sp1 = states + (g1s * dt) + (g2s_m * np.sqrt(dt))\n",
    "    Up1 = U + (g1U * dt) \n",
    "\n",
    "    g1 = np.append(g1s, g1U)\n",
    "    g2 = np.append(g2s, g2U)\n",
    "\n",
    "    return [np.asarray([sp1, Up1]), \n",
    "            np.asarray([g1]), \n",
    "            np.asarray([g2])]\n"
   ]
  },
  {
   "cell_type": "code",
   "execution_count": 15,
   "metadata": {},
   "outputs": [
    {
     "ename": "ValueError",
     "evalue": "setting an array element with a sequence. The requested array has an inhomogeneous shape after 1 dimensions. The detected shape was (2,) + inhomogeneous part.",
     "output_type": "error",
     "traceback": [
      "\u001b[0;31m---------------------------------------------------------------------------\u001b[0m",
      "\u001b[0;31mValueError\u001b[0m                                Traceback (most recent call last)",
      "Cell \u001b[0;32mIn[15], line 29\u001b[0m\n\u001b[1;32m     27\u001b[0m num_time_steps \u001b[39m=\u001b[39m \u001b[39m100\u001b[39m\n\u001b[1;32m     28\u001b[0m dt \u001b[39m=\u001b[39m \u001b[39m0.01\u001b[39m\n\u001b[0;32m---> 29\u001b[0m states, drifts, diffusions \u001b[39m=\u001b[39m generate_data(num_samples, num_time_steps, dt)\n",
      "Cell \u001b[0;32mIn[15], line 15\u001b[0m, in \u001b[0;36mgenerate_data\u001b[0;34m(num_samples, num_time_steps, dt)\u001b[0m\n\u001b[1;32m     12\u001b[0m \u001b[39m# Loop over each time step\u001b[39;00m\n\u001b[1;32m     13\u001b[0m \u001b[39mfor\u001b[39;00m t \u001b[39min\u001b[39;00m \u001b[39mrange\u001b[39m(num_time_steps):\n\u001b[1;32m     14\u001b[0m     \u001b[39m# Update the state using the SDE\u001b[39;00m\n\u001b[0;32m---> 15\u001b[0m     state, drift, diffusion \u001b[39m=\u001b[39m jet_spinode(state_ini)\n\u001b[1;32m     16\u001b[0m     \u001b[39m# Store the state, drift, and diffusion\u001b[39;00m\n\u001b[1;32m     17\u001b[0m     states[i, t] \u001b[39m=\u001b[39m state\n",
      "Cell \u001b[0;32mIn[14], line 26\u001b[0m, in \u001b[0;36mjet_spinode\u001b[0;34m(states)\u001b[0m\n\u001b[1;32m     23\u001b[0m g1 \u001b[39m=\u001b[39m np\u001b[39m.\u001b[39mappend(g1s, g1U)\n\u001b[1;32m     24\u001b[0m g2 \u001b[39m=\u001b[39m np\u001b[39m.\u001b[39mappend(g2s, g2U)\n\u001b[0;32m---> 26\u001b[0m \u001b[39mreturn\u001b[39;00m [np\u001b[39m.\u001b[39;49masarray([sp1, Up1]), \n\u001b[1;32m     27\u001b[0m         np\u001b[39m.\u001b[39masarray([g1]), \n\u001b[1;32m     28\u001b[0m         np\u001b[39m.\u001b[39masarray([g2])]\n",
      "\u001b[0;31mValueError\u001b[0m: setting an array element with a sequence. The requested array has an inhomogeneous shape after 1 dimensions. The detected shape was (2,) + inhomogeneous part."
     ]
    }
   ],
   "source": [
    "def generate_data(num_samples, num_time_steps, dt):\n",
    "    # Preallocate arrays to store states for each time step\n",
    "    states = np.empty((num_samples, num_time_steps, 5))\n",
    "    drifts = np.empty((num_samples, num_time_steps, 5))\n",
    "    diffusions = np.empty((num_samples, num_time_steps, 5))\n",
    "\n",
    "    # Loop over each sample\n",
    "    for i in range(num_samples):\n",
    "        # Initialize the state\n",
    "        state_ini = np.array([0, 0, 0, 0, 0.001])\n",
    "\n",
    "        # Loop over each time step\n",
    "        for t in range(num_time_steps):\n",
    "            # Update the state using the SDE\n",
    "            state, drift, diffusion = jet_spinode(state_ini)\n",
    "            # Store the state, drift, and diffusion\n",
    "            states[i, t] = state\n",
    "            drifts[i, t] = drift\n",
    "            diffusions[i, t] = diffusion\n",
    "            # Update the initial state for the next time step\n",
    "            state_ini = state\n",
    "\n",
    "    return states, drifts, diffusions\n",
    "\n",
    "# Use the function to generate data\n",
    "num_samples = 1000\n",
    "num_time_steps = 100\n",
    "dt = 0.01\n",
    "states, drifts, diffusions = generate_data(num_samples, num_time_steps, dt)"
   ]
  },
  {
   "cell_type": "code",
   "execution_count": null,
   "metadata": {},
   "outputs": [],
   "source": []
  }
 ],
 "metadata": {
  "kernelspec": {
   "display_name": "tfgpu",
   "language": "python",
   "name": "python3"
  },
  "language_info": {
   "codemirror_mode": {
    "name": "ipython",
    "version": 3
   },
   "file_extension": ".py",
   "mimetype": "text/x-python",
   "name": "python",
   "nbconvert_exporter": "python",
   "pygments_lexer": "ipython3",
   "version": "3.10.6"
  },
  "orig_nbformat": 4
 },
 "nbformat": 4,
 "nbformat_minor": 2
}
