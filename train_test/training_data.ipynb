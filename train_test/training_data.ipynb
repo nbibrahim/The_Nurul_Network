{
 "cells": [
  {
   "cell_type": "code",
   "execution_count": 12,
   "id": "78f0d76a-c6f7-4c34-b670-548ec7286c96",
   "metadata": {
    "tags": []
   },
   "outputs": [],
   "source": [
    "import numpy as np\n",
    "import pandas as pd\n",
    "import matplotlib.pyplot as plt\n",
    "import sklearn\n",
    "from matplotlib.animation import FuncAnimation\n",
    "from sklearn.model_selection import train_test_split"
   ]
  },
  {
   "cell_type": "code",
   "execution_count": 13,
   "id": "a3258af4-c8aa-4046-9629-3e6ca9c55737",
   "metadata": {
    "tags": []
   },
   "outputs": [],
   "source": [
    "##Wavenumbers\n",
    "k = 12 * np.pi\n",
    "m = 6 * np.pi\n",
    "m_U = 14 * np.pi #vertical wavenumber\n",
    "##\n",
    "\n",
    "r_m = 0.1\n",
    "N0_squared = 100\n",
    "\n",
    "\n",
    "k_e = np.sqrt(k**2 + m**2)\n",
    "k_plus = np.sqrt(k**2 +(m+m_U)**2)\n",
    "\n",
    "W_e = np.array([[-1, k / (k_e**2)],\n",
    "                [-k * N0_squared, -1]])\n",
    "W_plus = np.array([[-1, -k / (k_plus**2)],\n",
    "                [k * N0_squared, -1]])\n",
    "\n",
    "W = np.block([[W_e, np.zeros((2, 2))],\n",
    "             [np.zeros((2, 2)), W_plus]])\n",
    "\n",
    "L_e = np.array([[-(k*(k_plus**2 - m_U**2)) / (2 * (k_e**2)), 0],\n",
    "                [0, k / 2]])\n",
    "\n",
    "L_plus = np.array([[-(k*(m_U**2 - k_e**2)) / (2 * (k_plus**2)), 0],\n",
    "                [0, -k / 2]])\n",
    "\n",
    "L = np.block([[np.zeros((2, 2)), L_e],\n",
    "             [L_plus, np.zeros((2, 2))]])"
   ]
  },
  {
   "cell_type": "code",
   "execution_count": 14,
   "id": "9b60c9dc-d527-4678-a511-d72a917796ae",
   "metadata": {
    "tags": []
   },
   "outputs": [],
   "source": [
    "initial_state = np.array([[0, 0, 0, 0, 0.001]]).T  #The initial state for the y_em output where the concatenated array looks like [psi_e, b_e, psi_plus, b_plus, U]\n",
    "\n",
    "t_span = (0, 200)  #the range of time units\n",
    "dt = 0.001  #the timestep (dt=0.001 is a pretty decent value to stay at)\n",
    "\n",
    "epsilon = 0.01  #noise strength (0.01 has been well used)\n",
    "\n",
    "#The function below uses the Euler Maruyama method which is used to solve Stochastic Differential Equations (SDEs)\n",
    "def euler_maruyama(y0, t_span, dt, epsilon):\n",
    "    t0, tf = t_span\n",
    "    t = np.linspace(t0, tf, int((tf - t0) / dt) + 1)\n",
    "    s = np.zeros((4, len(t)))\n",
    "    U = np.zeros(len(t))\n",
    "    R = np.zeros(len(t))\n",
    "\n",
    "    s[:, 0] = y0[:4].ravel()\n",
    "    U[0] = y0[4]\n",
    "    R[0] = 0\n",
    "\n",
    "    for i in range(len(t) - 1):\n",
    "        noise_forcing = np.sqrt(dt) * (2 * np.sqrt(2) / k_e) * np.random.normal(0, 1)\n",
    "        noise_forcing_vector = np.array([noise_forcing, 0, 0, 0])\n",
    "        psi_e = s[0, i]\n",
    "        psi_p = s[2, i]\n",
    "        s[:, i + 1] = s[:, i] + dt * (W @ s[:, i] + U[i] * (L @ s[:, i])) + np.sqrt(epsilon) * noise_forcing_vector\n",
    "        U[i + 1] = U[i] + dt * ((0.25 * k * (k_plus**2 - k_e**2) * psi_e * psi_p) - (r_m * U[i]))\n",
    "\n",
    "    y = np.vstack((s, U))\n",
    "    return t, y"
   ]
  },
  {
   "cell_type": "code",
   "execution_count": 7,
   "id": "97d3ea45-2efe-4c71-bdd5-b7576a3c00c9",
   "metadata": {
    "tags": []
   },
   "outputs": [],
   "source": [
    "num_data_points = 5\n",
    "data_points = []\n",
    "\n",
    "for i in range(num_data_points):\n",
    "    # Set a different random seed for each run\n",
    "    np.random.seed(i)\n",
    "    \n",
    "    # Run the euler_maruyama function with the same parameters as before\n",
    "    t_em, y_em = euler_maruyama(initial_state, t_span, dt, epsilon)\n",
    "\n",
    "    # Combine the time, R_value_em, and y_em[4] into a single numpy array\n",
    "    data = np.column_stack((t_em, y_em[4]))\n",
    "\n",
    "    # Append the data to the data_points list\n",
    "    data_points.append(data)\n",
    "\n",
    "# Concatenate all the data points into a single numpy array\n",
    "data_points = np.vstack(data_points)\n",
    "\n",
    "# Create a DataFrame from the data\n",
    "df = pd.DataFrame(data_points, columns=['Time', 'U'])\n",
    "\n",
    "# Shuffle the data\n",
    "#df = df.sample(frac=1).reset_index(drop=True)\n",
    "\n",
    "# Split the data into training and test sets (80% training, 20% test)\n",
    "train_frac = 0.8\n",
    "train_size = int(len(df) * train_frac)\n",
    "train_df = df[:train_size]\n",
    "test_df = df[train_size:]\n",
    "\n",
    "# Save the DataFrames as .csv files\n",
    "train_df.to_csv('training_data_5.csv', index=False)\n",
    "test_df.to_csv('test_data_5.csv', index=False)"
   ]
  },
  {
   "cell_type": "code",
   "execution_count": null,
   "id": "a2d7dd38-18af-4c30-865e-a3825e459ed8",
   "metadata": {},
   "outputs": [],
   "source": []
  },
  {
   "cell_type": "code",
   "execution_count": null,
   "id": "19d00a35-335e-46aa-a095-59d5e85651d0",
   "metadata": {},
   "outputs": [],
   "source": []
  },
  {
   "cell_type": "code",
   "execution_count": 4,
   "id": "fd2fafa7-dd02-4129-bedc-175d46a437ca",
   "metadata": {
    "tags": []
   },
   "outputs": [],
   "source": [
    "def generate_data(num_samples, y0, t_span, dt, epsilon):\n",
    "    t_list = []\n",
    "    y_list = []\n",
    "\n",
    "    for _ in range(num_samples):\n",
    "        t_em, y_em = euler_maruyama(y0, t_span, dt, epsilon)\n",
    "        t_list.append(t_em)\n",
    "        y_list.append(y_em[4])  # Extracting only y_em[4] as specified\n",
    "\n",
    "    return np.array(t_list), np.array(y_list)"
   ]
  },
  {
   "cell_type": "code",
   "execution_count": 10,
   "id": "3713faaf-01e7-4d51-8160-8ad642bf2086",
   "metadata": {
    "tags": []
   },
   "outputs": [],
   "source": [
    "def generate_data(num_samples, y0, t_span, dt, epsilon):\n",
    "    t_list = []\n",
    "    y_list = []\n",
    "\n",
    "    for _ in range(num_samples):\n",
    "        t_em, y_em = euler_maruyama(y0, t_span, dt, epsilon)\n",
    "        t_list.append(t_em)\n",
    "        y_list.append(y_em[4])  # Extracting only y_em[4] as specified\n",
    "\n",
    "    # Convert the lists to float32 numpy arrays and reshape the data\n",
    "    t_array = np.array(t_list, dtype=np.float32).reshape(-1, 1)\n",
    "    y_array = np.array(y_list, dtype=np.float32).reshape(-1, 1)\n",
    "\n",
    "    return t_array, y_array"
   ]
  },
  {
   "cell_type": "code",
   "execution_count": 11,
   "id": "26543dc3-b76f-4188-8354-881e476b99ea",
   "metadata": {
    "tags": []
   },
   "outputs": [],
   "source": [
    "# Generate 1000 data samples\n",
    "num_samples = 10\n",
    "t_data, y_data = generate_data(num_samples, initial_state, t_span, dt, epsilon)\n",
    "\n",
    "# Combine the data into a DataFrame\n",
    "data = {'t': t_data.flatten(), 'y_em': y_data.flatten()}\n",
    "df = pd.DataFrame(data)\n",
    "\n",
    "# Save the DataFrame to a .csv file\n",
    "df.to_csv('./data/generated_data.csv', index=False)\n",
    "\n",
    "# Split the data into 40% training and 60% testing\n",
    "train_ratio = 0.4\n",
    "test_ratio = 0.6\n",
    "train_df, test_df = train_test_split(df, train_size=train_ratio, test_size=test_ratio, random_state=42)\n",
    "\n",
    "# Save the training and testing data to .csv files\n",
    "train_df.to_csv('./data/train_data_new.csv', index=False)\n",
    "test_df.to_csv('./data/test_data_new.csv', index=False)"
   ]
  },
  {
   "cell_type": "code",
   "execution_count": null,
   "id": "95c811ba-178f-4640-b54b-32d17ed5ebf8",
   "metadata": {},
   "outputs": [],
   "source": []
  },
  {
   "cell_type": "code",
   "execution_count": null,
   "id": "2f486b93-b0e1-47b6-9012-7973d82c942b",
   "metadata": {},
   "outputs": [],
   "source": []
  },
  {
   "cell_type": "code",
   "execution_count": 16,
   "id": "db63efac-7fec-458b-95a0-ede3b765b791",
   "metadata": {
    "tags": []
   },
   "outputs": [],
   "source": [
    "t, y = euler_maruyama(initial_state, t_span, dt, epsilon)\n",
    "\n",
    "# Save the results to a DataFrame and export it to a CSV file\n",
    "df = pd.DataFrame(np.hstack([t[:, np.newaxis], y.T]), columns=['t', 'psi_e', 'b_e', 'psi_plus', 'b_plus', 'U'])\n",
    "df.to_csv('./data/train_data.csv', index=False)"
   ]
  },
  {
   "cell_type": "code",
   "execution_count": null,
   "id": "6f4d129a-50d3-410c-8cd9-e748007ce02d",
   "metadata": {},
   "outputs": [],
   "source": []
  }
 ],
 "metadata": {
  "kernelspec": {
   "display_name": "Python 3 (ipykernel)",
   "language": "python",
   "name": "python3"
  },
  "language_info": {
   "codemirror_mode": {
    "name": "ipython",
    "version": 3
   },
   "file_extension": ".py",
   "mimetype": "text/x-python",
   "name": "python",
   "nbconvert_exporter": "python",
   "pygments_lexer": "ipython3",
   "version": "3.11.3"
  }
 },
 "nbformat": 4,
 "nbformat_minor": 5
}
