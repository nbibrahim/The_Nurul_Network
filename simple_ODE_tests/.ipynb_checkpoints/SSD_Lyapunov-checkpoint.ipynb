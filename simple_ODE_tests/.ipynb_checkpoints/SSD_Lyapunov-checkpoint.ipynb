{
 "cells": [
  {
   "cell_type": "code",
   "execution_count": 115,
   "id": "c1690dfb-6a28-4b16-9618-e57864fa9718",
   "metadata": {
    "tags": []
   },
   "outputs": [],
   "source": [
    "import numpy as np\n",
    "import matplotlib.pyplot as plt"
   ]
  },
  {
   "cell_type": "code",
   "execution_count": 116,
   "id": "181b4cff-9167-4e81-b4ee-58e19d44d3ed",
   "metadata": {
    "tags": []
   },
   "outputs": [],
   "source": [
    "##Wavenumbers\n",
    "k = 12 * np.pi\n",
    "m = 6 * np.pi\n",
    "m_U = 14 * np.pi #vertical wavenumber\n",
    "##\n",
    "\n",
    "r_m = 0.1\n",
    "N0_squared = 100\n",
    "\n",
    "\n",
    "k_e = np.sqrt(k**2 + m**2)\n",
    "k_plus = np.sqrt(k**2 +(m+m_U)**2)\n",
    "\n",
    "W_e = np.array([[-1, k / (k_e**2)],\n",
    "                [-k * N0_squared, -1]])\n",
    "W_plus = np.array([[-1, -k / (k_plus**2)],\n",
    "                [k * N0_squared, -1]])\n",
    "\n",
    "W = np.block([[W_e, np.zeros((2, 2))],\n",
    "             [np.zeros((2, 2)), W_plus]])\n",
    "\n",
    "L_e = np.array([[-(k*(k_plus**2 - m_U**2)) / (2 * (k_e**2)), 0],\n",
    "                [0, k / 2]])\n",
    "\n",
    "L_plus = np.array([[-(k*(m_U**2 - k_e**2)) / (2 * (k_plus**2)), 0],\n",
    "                [0, -k / 2]])\n",
    "\n",
    "L = np.block([[np.zeros((2, 2)), L_e],\n",
    "             [L_plus, np.zeros((2, 2))]])"
   ]
  },
  {
   "cell_type": "code",
   "execution_count": 117,
   "id": "9f79c0b6-481d-4b64-b40e-594c9a757167",
   "metadata": {
    "tags": []
   },
   "outputs": [],
   "source": [
    "U = 0\n",
    "\n",
    "A = W + U * L\n",
    "\n",
    "# C = Matrix([[psi_e**2, b_e*psi_e, psi_e*psi_plus, b_plus*psi_e], \n",
    "#            [b_e*psi_e, b_e**2, b_e*psi_plus, b_e*b_plus], \n",
    "#            [psi_e*psi_plus, b_e*psi_plus, psi_plus**2, b_plus*psi_plus], \n",
    "#            [b_plus*psi_e, b_e*b_plus, b_plus*psi_plus, b_plus**2]])\n",
    "\n",
    "# Initial values of C matrix\n",
    "C = np.zeros((4, 4))\n",
    "\n",
    "# Initial values of Q matrix\n",
    "Q = np.zeros((4, 4))\n",
    "Q[0, 0] = 8 / (k_e**2)\n",
    "\n",
    "epsilon = 0.01  # Noise strength"
   ]
  },
  {
   "cell_type": "code",
   "execution_count": 118,
   "id": "20c3cb73-61b5-4376-8335-e0c8783d3829",
   "metadata": {
    "tags": []
   },
   "outputs": [],
   "source": [
    "# ODE function for dC/dt\n",
    "def dC_dt(t, C, A, epsilon, Q):\n",
    "    \n",
    "    C = C.reshape((4, 4))\n",
    "    dC = A @ C + C @ A.T + epsilon * Q\n",
    "    \n",
    "    return dC.flatten()\n",
    "\n",
    "# Function that uses Runge-Kutta Fourth-Order method to solve the ODE\n",
    "def rk4_method(rhs, y0, t_span, dt, *args):\n",
    "    \n",
    "    t0, tf = t_span\n",
    "    t = np.linspace(t0, tf, int((tf - t0) / dt) + 1)\n",
    "    y = np.zeros((len(y0), len(t)))\n",
    "    y[:, 0] = y0\n",
    "\n",
    "    for i in range(1, len(t)):\n",
    "        k1 = rhs(t[i-1], y[:, i-1], *args)\n",
    "        k2 = rhs(t[i-1] + dt/2, y[:, i-1] + dt/2 * k1, *args)\n",
    "        k3 = rhs(t[i-1] + dt/2, y[:, i-1] + dt/2 * k2, *args)\n",
    "        k4 = rhs(t[i-1] + dt, y[:, i-1] + dt * k3, *args)\n",
    "\n",
    "        y[:, i] = y[:, i-1] + dt * (k1 + 2*k2 + 2*k3 + k4) / 6\n",
    "\n",
    "    return t, y\n"
   ]
  },
  {
   "cell_type": "code",
   "execution_count": 119,
   "id": "4e5227ea-73fd-4854-ba99-6ed6ade78daa",
   "metadata": {
    "tags": []
   },
   "outputs": [
    {
     "name": "stdout",
     "output_type": "stream",
     "text": [
      "C matrix at the end of time:\n",
      "[[ 1.13968958e-05 -5.23966892e-04  0.00000000e+00  0.00000000e+00]\n",
      " [-5.23966892e-04  1.97530864e+00  0.00000000e+00  0.00000000e+00]\n",
      " [ 0.00000000e+00  0.00000000e+00  0.00000000e+00  0.00000000e+00]\n",
      " [ 0.00000000e+00  0.00000000e+00  0.00000000e+00  0.00000000e+00]]\n"
     ]
    }
   ],
   "source": [
    "t_span = (0, 10)\n",
    "dt = 0.01\n",
    "\n",
    "# Solving the ODE using rk4_method\n",
    "t, C_sol = rk4_method(dC_dt, C.flatten(), t_span, dt, A, epsilon, Q)\n",
    "\n",
    "\n",
    "print(\"C matrix at the end of time:\")\n",
    "print(C_sol[:, -1].reshape((4, 4)))"
   ]
  },
  {
   "cell_type": "code",
   "execution_count": 137,
   "id": "f965a981-3f7c-4ea8-8bf9-92073af85652",
   "metadata": {
    "tags": []
   },
   "outputs": [
    {
     "data": {
      "image/png": "[encoded data removed]",
      "text/plain": [
       "<Figure size 640x480 with 1 Axes>"
      ]
     },
     "metadata": {},
     "output_type": "display_data"
    }
   ],
   "source": [
    "b_e_squared = C_sol[5, :]\n",
    "\n",
    "#Plot b_e**2 against time\n",
    "plt.plot(t, b_e_squared)\n",
    "plt.xlabel('Time')\n",
    "plt.ylabel('b_e**2')\n",
    "plt.title('Time evolution of b_e**2')\n",
    "#plt.xlim(0,3)\n",
    "plt.show()"
   ]
  },
  {
   "cell_type": "code",
   "execution_count": 125,
   "id": "ab19e87d-a5d2-4f8d-ae86-213c1472ce5c",
   "metadata": {},
   "outputs": [
    {
     "data": {
      "text/plain": [
       "1.139689582808189e-05"
      ]
     },
     "execution_count": 125,
     "metadata": {},
     "output_type": "execute_result"
    }
   ],
   "source": [
    "2 * epsilon / k_e**2 * (2 - ((k**2 * N0_squared)/(k_e**2 + k**2 * N0_squared)))  # C_11"
   ]
  },
  {
   "cell_type": "code",
   "execution_count": 133,
   "id": "d1de1ec7-3e77-4174-87af-1ff54f35e17a",
   "metadata": {
    "tags": []
   },
   "outputs": [
    {
     "name": "stdout",
     "output_type": "stream",
     "text": [
      "1.1396895805635468e-05\n"
     ]
    }
   ],
   "source": [
    "print(C_sol[0, -1])"
   ]
  },
  {
   "cell_type": "code",
   "execution_count": 135,
   "id": "ec0e2e0a-96a3-4065-a685-b77821764733",
   "metadata": {
    "tags": []
   },
   "outputs": [
    {
     "data": {
      "text/plain": [
       "-0.0005239668908375155"
      ]
     },
     "execution_count": 135,
     "metadata": {},
     "output_type": "execute_result"
    }
   ],
   "source": [
    "-2 * epsilon * k * N0_squared / (k_e**2 + k**2 * N0_squared)  # C_12"
   ]
  },
  {
   "cell_type": "code",
   "execution_count": 134,
   "id": "46cfd510-e69c-4309-91f1-94c080d91fa0",
   "metadata": {
    "tags": []
   },
   "outputs": [
    {
     "name": "stdout",
     "output_type": "stream",
     "text": [
      "-0.0005239668918769355\n"
     ]
    }
   ],
   "source": [
    "print(C_sol[1, -1])"
   ]
  },
  {
   "cell_type": "code",
   "execution_count": 136,
   "id": "bc5ce17f-2c6c-4890-8040-107173dbf552",
   "metadata": {
    "tags": []
   },
   "outputs": [
    {
     "data": {
      "text/plain": [
       "1.9753086419753088"
      ]
     },
     "execution_count": 136,
     "metadata": {},
     "output_type": "execute_result"
    }
   ],
   "source": [
    "2 * epsilon * k**2 * N0_squared**2 / (k_e**2 + k**2 * N0_squared) # C_22"
   ]
  },
  {
   "cell_type": "code",
   "execution_count": 138,
   "id": "759d77d9-267d-4ce7-88c1-4398b69f06c9",
   "metadata": {
    "tags": []
   },
   "outputs": [
    {
     "name": "stdout",
     "output_type": "stream",
     "text": [
      "1.9753086377183662\n"
     ]
    }
   ],
   "source": [
    "print(C_sol[5, -1])"
   ]
  },
  {
   "cell_type": "code",
   "execution_count": null,
   "id": "4a789e28-f236-4e21-8c1a-3798028a6a38",
   "metadata": {},
   "outputs": [],
   "source": []
  }
 ],
 "metadata": {
  "kernelspec": {
   "display_name": "Python 3 (ipykernel)",
   "language": "python",
   "name": "python3"
  },
  "language_info": {
   "codemirror_mode": {
    "name": "ipython",
    "version": 3
   },
   "file_extension": ".py",
   "mimetype": "text/x-python",
   "name": "python",
   "nbconvert_exporter": "python",
   "pygments_lexer": "ipython3",
   "version": "3.11.3"
  }
 },
 "nbformat": 4,
 "nbformat_minor": 5
}
