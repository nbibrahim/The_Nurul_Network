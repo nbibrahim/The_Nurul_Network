{
 "cells": [
  {
   "cell_type": "code",
   "execution_count": 1,
   "metadata": {},
   "outputs": [
    {
     "name": "stderr",
     "output_type": "stream",
     "text": [
      "2023-06-16 14:03:31.883255: I tensorflow/tsl/cuda/cudart_stub.cc:28] Could not find cuda drivers on your machine, GPU will not be used.\n",
      "2023-06-16 14:03:31.957765: I tensorflow/tsl/cuda/cudart_stub.cc:28] Could not find cuda drivers on your machine, GPU will not be used.\n",
      "2023-06-16 14:03:34.285470: W tensorflow/compiler/tf2tensorrt/utils/py_utils.cc:38] TF-TRT Warning: Could not find TensorRT\n"
     ]
    }
   ],
   "source": [
    "import numpy as np\n",
    "import matplotlib.pyplot as plt\n",
    "import pandas as pd\n",
    "from tensorflow.keras.layers import RNN, Dense, Layer\n",
    "from tensorflow.keras import Sequential\n",
    "from tensorflow.keras.optimizers import RMSprop\n",
    "from tensorflow.python.framework import tensor_shape\n",
    "from tensorflow import float32, concat, convert_to_tensor, linalg, random"
   ]
  },
  {
   "cell_type": "code",
   "execution_count": 13,
   "metadata": {},
   "outputs": [],
   "source": [
    "class EMIntegratorCell(Layer):\n",
    "    def __init__(self, m, damping, dt, initial_state, **kwargs):\n",
    "        super(EMIntegratorCell, self).__init__(**kwargs)\n",
    "        self.m = m\n",
    "        self.damping = damping\n",
    "        self.initial_state = initial_state\n",
    "        self.state_size = 2 * len(m)\n",
    "        self.dt = dt\n",
    "\n",
    "    def call(self, inputs, states):\n",
    "        t = inputs\n",
    "        y = states[0][:, :1]\n",
    "        ydot = states[0][:, 1:]\n",
    "        yddoti = self._fun(self.m, self.damping, y, ydot)\n",
    "        y_new = y + ydot * self.dt\n",
    "        ydot_new = ydot + yddoti\n",
    "        return y_new, [concat([y_new, ydot_new], axis=1)]\n",
    "\n",
    "    def _fun(self, m, damping, y, ydot):\n",
    "        random_force = random.normal(shape=ydot.shape, dtype=float32) * np.sqrt(self.dt)\n",
    "        return -damping * ydot / m + random_force\n",
    "\n",
    "    def get_initial_state(self, inputs=None, batch_size=None, dtype=None):\n",
    "        return self.initial_state"
   ]
  },
  {
   "cell_type": "code",
   "execution_count": 14,
   "metadata": {},
   "outputs": [],
   "source": [
    "def create_model(m, damping, dt, initial_state, batch_input_shape, return_sequences=True, unroll=False):\n",
    "    emCell = EMIntegratorCell(m=m, damping=damping, dt=dt, initial_state=initial_state)\n",
    "    PINN = RNN(cell=emCell, batch_input_shape=batch_input_shape, return_sequences=return_sequences, return_state=False, unroll=unroll)\n",
    "    model = Sequential()\n",
    "    model.add(PINN)\n",
    "    model.compile(loss='mse', optimizer=RMSprop(1e4), metrics=['mae'])\n",
    "    return model"
   ]
  },
  {
   "cell_type": "code",
   "execution_count": 15,
   "metadata": {},
   "outputs": [
    {
     "ename": "ValueError",
     "evalue": "Exception encountered when calling layer \"rnn_5\" (type RNN).\n\nDimension 1 in both shapes must be equal, but are 0 and 1. Shapes are [1,0,1] and [1,1,1].\n\nCall arguments received by layer \"rnn_5\" (type RNN):\n  • inputs=tf.Tensor(shape=(None, 1, 1), dtype=float32)\n  • mask=None\n  • training=None\n  • initial_state=None\n  • constants=None",
     "output_type": "error",
     "traceback": [
      "\u001b[0;31m---------------------------------------------------------------------------\u001b[0m",
      "\u001b[0;31mValueError\u001b[0m                                Traceback (most recent call last)",
      "Cell \u001b[0;32mIn[15], line 20\u001b[0m\n\u001b[1;32m     18\u001b[0m xtrain_reshaped \u001b[39m=\u001b[39m np\u001b[39m.\u001b[39mreshape(xtrain, (\u001b[39m-\u001b[39m\u001b[39m1\u001b[39m, \u001b[39m1\u001b[39m, \u001b[39m1\u001b[39m))\n\u001b[1;32m     19\u001b[0m ytrain_reshaped \u001b[39m=\u001b[39m np\u001b[39m.\u001b[39mreshape(ytrain, (\u001b[39m-\u001b[39m\u001b[39m1\u001b[39m, \u001b[39m1\u001b[39m, \u001b[39m1\u001b[39m))\n\u001b[0;32m---> 20\u001b[0m model \u001b[39m=\u001b[39m create_model(m, damping, dt, initial_state\u001b[39m=\u001b[39;49minitial_state, batch_input_shape\u001b[39m=\u001b[39;49m(\u001b[39mNone\u001b[39;49;00m, \u001b[39m1\u001b[39;49m, \u001b[39m1\u001b[39;49m))\n\u001b[1;32m     21\u001b[0m yPred_before \u001b[39m=\u001b[39m model\u001b[39m.\u001b[39mpredict(xtrain_reshaped)\n\u001b[1;32m     22\u001b[0m model\u001b[39m.\u001b[39mfit(xtrain_reshaped, ytrain_reshaped, epochs\u001b[39m=\u001b[39m\u001b[39m10\u001b[39m, steps_per_epoch\u001b[39m=\u001b[39m\u001b[39m1\u001b[39m, verbose\u001b[39m=\u001b[39m\u001b[39m1\u001b[39m)\n",
      "Cell \u001b[0;32mIn[14], line 5\u001b[0m, in \u001b[0;36mcreate_model\u001b[0;34m(m, damping, dt, initial_state, batch_input_shape, return_sequences, unroll)\u001b[0m\n\u001b[1;32m      3\u001b[0m PINN \u001b[39m=\u001b[39m RNN(cell\u001b[39m=\u001b[39memCell, batch_input_shape\u001b[39m=\u001b[39mbatch_input_shape, return_sequences\u001b[39m=\u001b[39mreturn_sequences, return_state\u001b[39m=\u001b[39m\u001b[39mFalse\u001b[39;00m, unroll\u001b[39m=\u001b[39munroll)\n\u001b[1;32m      4\u001b[0m model \u001b[39m=\u001b[39m Sequential()\n\u001b[0;32m----> 5\u001b[0m model\u001b[39m.\u001b[39;49madd(PINN)\n\u001b[1;32m      6\u001b[0m model\u001b[39m.\u001b[39mcompile(loss\u001b[39m=\u001b[39m\u001b[39m'\u001b[39m\u001b[39mmse\u001b[39m\u001b[39m'\u001b[39m, optimizer\u001b[39m=\u001b[39mRMSprop(\u001b[39m1e4\u001b[39m), metrics\u001b[39m=\u001b[39m[\u001b[39m'\u001b[39m\u001b[39mmae\u001b[39m\u001b[39m'\u001b[39m])\n\u001b[1;32m      7\u001b[0m \u001b[39mreturn\u001b[39;00m model\n",
      "File \u001b[0;32m~/miniforge3/envs/dedalus3/lib/python3.11/site-packages/tensorflow/python/trackable/base.py:205\u001b[0m, in \u001b[0;36mno_automatic_dependency_tracking.<locals>._method_wrapper\u001b[0;34m(self, *args, **kwargs)\u001b[0m\n\u001b[1;32m    203\u001b[0m \u001b[39mself\u001b[39m\u001b[39m.\u001b[39m_self_setattr_tracking \u001b[39m=\u001b[39m \u001b[39mFalse\u001b[39;00m  \u001b[39m# pylint: disable=protected-access\u001b[39;00m\n\u001b[1;32m    204\u001b[0m \u001b[39mtry\u001b[39;00m:\n\u001b[0;32m--> 205\u001b[0m   result \u001b[39m=\u001b[39m method(\u001b[39mself\u001b[39;49m, \u001b[39m*\u001b[39;49margs, \u001b[39m*\u001b[39;49m\u001b[39m*\u001b[39;49mkwargs)\n\u001b[1;32m    206\u001b[0m \u001b[39mfinally\u001b[39;00m:\n\u001b[1;32m    207\u001b[0m   \u001b[39mself\u001b[39m\u001b[39m.\u001b[39m_self_setattr_tracking \u001b[39m=\u001b[39m previous_value  \u001b[39m# pylint: disable=protected-access\u001b[39;00m\n",
      "File \u001b[0;32m~/miniforge3/envs/dedalus3/lib/python3.11/site-packages/keras/utils/traceback_utils.py:70\u001b[0m, in \u001b[0;36mfilter_traceback.<locals>.error_handler\u001b[0;34m(*args, **kwargs)\u001b[0m\n\u001b[1;32m     67\u001b[0m     filtered_tb \u001b[39m=\u001b[39m _process_traceback_frames(e\u001b[39m.\u001b[39m__traceback__)\n\u001b[1;32m     68\u001b[0m     \u001b[39m# To get the full stack trace, call:\u001b[39;00m\n\u001b[1;32m     69\u001b[0m     \u001b[39m# `tf.debugging.disable_traceback_filtering()`\u001b[39;00m\n\u001b[0;32m---> 70\u001b[0m     \u001b[39mraise\u001b[39;00m e\u001b[39m.\u001b[39mwith_traceback(filtered_tb) \u001b[39mfrom\u001b[39;00m \u001b[39mNone\u001b[39;00m\n\u001b[1;32m     71\u001b[0m \u001b[39mfinally\u001b[39;00m:\n\u001b[1;32m     72\u001b[0m     \u001b[39mdel\u001b[39;00m filtered_tb\n",
      "File \u001b[0;32m~/miniforge3/envs/dedalus3/lib/python3.11/site-packages/keras/backend.py:5155\u001b[0m, in \u001b[0;36mrnn.<locals>._step\u001b[0;34m(time, output_ta_t, *states)\u001b[0m\n\u001b[1;32m   5153\u001b[0m \u001b[39mfor\u001b[39;00m state, new_state \u001b[39min\u001b[39;00m \u001b[39mzip\u001b[39m(flat_state, flat_new_state):\n\u001b[1;32m   5154\u001b[0m     \u001b[39mif\u001b[39;00m \u001b[39misinstance\u001b[39m(new_state, tf\u001b[39m.\u001b[39mTensor):\n\u001b[0;32m-> 5155\u001b[0m         new_state\u001b[39m.\u001b[39;49mset_shape(state\u001b[39m.\u001b[39;49mshape)\n\u001b[1;32m   5157\u001b[0m flat_output \u001b[39m=\u001b[39m tf\u001b[39m.\u001b[39mnest\u001b[39m.\u001b[39mflatten(output)\n\u001b[1;32m   5158\u001b[0m ta_index_to_write \u001b[39m=\u001b[39m time \u001b[39mif\u001b[39;00m return_all_outputs \u001b[39melse\u001b[39;00m \u001b[39m0\u001b[39m\n",
      "\u001b[0;31mValueError\u001b[0m: Exception encountered when calling layer \"rnn_5\" (type RNN).\n\nDimension 1 in both shapes must be equal, but are 0 and 1. Shapes are [1,0,1] and [1,1,1].\n\nCall arguments received by layer \"rnn_5\" (type RNN):\n  • inputs=tf.Tensor(shape=(None, 1, 1), dtype=float32)\n  • mask=None\n  • training=None\n  • initial_state=None\n  • constants=None"
     ]
    }
   ],
   "source": [
    "if __name__ == \"__main__\":\n",
    "    # mass and damping coefficient\n",
    "    m = np.array([20.0], dtype='float32')\n",
    "    damping = np.array([10.0], dtype='float32')\n",
    "\n",
    "    # data\n",
    "    df = pd.read_csv('./langevin_data.csv')\n",
    "    t  = df[['t']].values\n",
    "    dt = (t[1] - t[0])[0]\n",
    "    xtrain = df[['t']].values\n",
    "    ytrain = df[['v']].values\n",
    "\n",
    "    # initial velocity\n",
    "    initial_velocity = np.array([ytrain[0][0]], dtype='float32')\n",
    "\n",
    "    # fitting physics-informed neural network\n",
    "    initial_state = np.array([[initial_velocity]], dtype='float32')\n",
    "    xtrain_reshaped = np.reshape(xtrain, (-1, 1, 1))\n",
    "    ytrain_reshaped = np.reshape(ytrain, (-1, 1, 1))\n",
    "    model = create_model(m, damping, dt, initial_state=initial_state, batch_input_shape=(None, 1, 1))\n",
    "    yPred_before = model.predict(xtrain_reshaped)\n",
    "    model.fit(xtrain_reshaped, ytrain_reshaped, epochs=10, steps_per_epoch=1, verbose=1)\n",
    "    yPred = model.predict(xtrain_reshaped)\n",
    "\n",
    "    # plotting prediction results\n",
    "    plt.plot(xtrain, ytrain[:, 0], 'gray')\n",
    "    plt.plot(xtrain, yPred_before[0, :, 0], 'r', label='before training')\n",
    "    plt.plot(xtrain, yPred[0, :, 0], 'b', label='after training')\n",
    "    plt.xlabel('t')\n",
    "    plt.ylabel('v')\n",
    "    plt.grid('on')\n",
    "    plt.legend()\n",
    "    plt.show()"
   ]
  },
  {
   "cell_type": "code",
   "execution_count": null,
   "metadata": {},
   "outputs": [],
   "source": []
  }
 ],
 "metadata": {
  "kernelspec": {
   "display_name": "dedalus3",
   "language": "python",
   "name": "python3"
  },
  "language_info": {
   "codemirror_mode": {
    "name": "ipython",
    "version": 3
   },
   "file_extension": ".py",
   "mimetype": "text/x-python",
   "name": "python",
   "nbconvert_exporter": "python",
   "pygments_lexer": "ipython3",
   "version": "3.11.3"
  },
  "orig_nbformat": 4
 },
 "nbformat": 4,
 "nbformat_minor": 2
}
