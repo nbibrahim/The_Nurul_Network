{
 "cells": [
  {
   "cell_type": "code",
   "execution_count": 1,
   "id": "c0b2972f-645f-4320-926e-5c6f1125a159",
   "metadata": {
    "tags": []
   },
   "outputs": [
    {
     "name": "stdout",
     "output_type": "stream",
     "text": [
      "⎡    2                                       ⎤\n",
      "⎢  ψₑ       bₑ⋅ψₑ     ψₑ⋅ψₚₗᵤₛ     bₚₗᵤₛ⋅ψₑ  ⎥\n",
      "⎢                                            ⎥\n",
      "⎢              2                             ⎥\n",
      "⎢ bₑ⋅ψₑ      bₑ       bₑ⋅ψₚₗᵤₛ     bₑ⋅bₚₗᵤₛ  ⎥\n",
      "⎢                                            ⎥\n",
      "⎢                           2                ⎥\n",
      "⎢ψₑ⋅ψₚₗᵤₛ  bₑ⋅ψₚₗᵤₛ    ψₚₗᵤₛ      bₚₗᵤₛ⋅ψₚₗᵤₛ⎥\n",
      "⎢                                            ⎥\n",
      "⎢                                        2   ⎥\n",
      "⎣bₚₗᵤₛ⋅ψₑ  bₑ⋅bₚₗᵤₛ  bₚₗᵤₛ⋅ψₚₗᵤₛ    bₚₗᵤₛ    ⎦\n"
     ]
    }
   ],
   "source": [
    "import sympy as sp\n",
    "\n",
    "psi_e, b_e, psi_plus, b_plus = sp.symbols('psi_e b_e psi_plus b_plus')\n",
    "s\n",
    "s = sp.Matrix([[psi_e],\n",
    "               [b_e],\n",
    "               [psi_plus],\n",
    "               [b_plus]])\n",
    "\n",
    "C = s * s.T\n",
    "\n",
    "sp.pprint(C.expand())"
   ]
  },
  {
   "cell_type": "code",
   "execution_count": null,
   "id": "d6bf5500-f6e2-4ef7-9b5f-9c80cde0df01",
   "metadata": {},
   "outputs": [],
   "source": []
  }
 ],
 "metadata": {
  "kernelspec": {
   "display_name": "Python 3 (ipykernel)",
   "language": "python",
   "name": "python3"
  },
  "language_info": {
   "codemirror_mode": {
    "name": "ipython",
    "version": 3
   },
   "file_extension": ".py",
   "mimetype": "text/x-python",
   "name": "python",
   "nbconvert_exporter": "python",
   "pygments_lexer": "ipython3",
   "version": "3.11.3"
  }
 },
 "nbformat": 4,
 "nbformat_minor": 5
}
